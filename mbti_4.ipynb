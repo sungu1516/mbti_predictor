{
 "cells": [
  {
   "cell_type": "markdown",
   "metadata": {},
   "source": [
    "# 자연어 처리를 통한 성격 예측 : 모델링"
   ]
  },
  {
   "cell_type": "code",
   "execution_count": 2,
   "metadata": {},
   "outputs": [],
   "source": [
    "import pandas as pd\n",
    "import numpy as np\n",
    "import warnings\n",
    "from sklearn.model_selection import train_test_split, GridSearchCV\n",
    "from sklearn.feature_extraction.text import TfidfVectorizer\n",
    "from sklearn.ensemble import RandomForestClassifier\n",
    "from sklearn.linear_model import LogisticRegression\n",
    "from sklearn.metrics import confusion_matrix\n",
    "from sklearn.metrics import accuracy_score\n",
    "warnings.filterwarnings('ignore')               # Turn the warnings off.\n",
    "from xgboost import XGBClassifier\n",
    "import joblib"
   ]
  },
  {
   "cell_type": "markdown",
   "metadata": {},
   "source": [
    "## 학습용 데이터셋 준비"
   ]
  },
  {
   "cell_type": "markdown",
   "metadata": {},
   "source": [
    "### 1. X_data 준비"
   ]
  },
  {
   "cell_type": "markdown",
   "metadata": {},
   "source": [
    "#### 1) 말뭉치 데이터 준비"
   ]
  },
  {
   "cell_type": "code",
   "execution_count": 7,
   "metadata": {},
   "outputs": [
    {
     "data": {
      "text/html": [
       "<div>\n",
       "<style scoped>\n",
       "    .dataframe tbody tr th:only-of-type {\n",
       "        vertical-align: middle;\n",
       "    }\n",
       "\n",
       "    .dataframe tbody tr th {\n",
       "        vertical-align: top;\n",
       "    }\n",
       "\n",
       "    .dataframe thead th {\n",
       "        text-align: right;\n",
       "    }\n",
       "</style>\n",
       "<table border=\"1\" class=\"dataframe\">\n",
       "  <thead>\n",
       "    <tr style=\"text-align: right;\">\n",
       "      <th></th>\n",
       "      <th>type</th>\n",
       "      <th>posts</th>\n",
       "    </tr>\n",
       "  </thead>\n",
       "  <tbody>\n",
       "    <tr>\n",
       "      <th>0</th>\n",
       "      <td>INFJ</td>\n",
       "      <td>enfp intj moments sportscenter top ten plays p...</td>\n",
       "    </tr>\n",
       "    <tr>\n",
       "      <th>1</th>\n",
       "      <td>ENTP</td>\n",
       "      <td>finding lack posts alarming sex boring positio...</td>\n",
       "    </tr>\n",
       "    <tr>\n",
       "      <th>2</th>\n",
       "      <td>INTP</td>\n",
       "      <td>good one course say know blessing curse absolu...</td>\n",
       "    </tr>\n",
       "    <tr>\n",
       "      <th>3</th>\n",
       "      <td>INTJ</td>\n",
       "      <td>dear intp enjoyed conversation day esoteric ga...</td>\n",
       "    </tr>\n",
       "    <tr>\n",
       "      <th>4</th>\n",
       "      <td>ENTJ</td>\n",
       "      <td>fired another silly misconception approaching ...</td>\n",
       "    </tr>\n",
       "  </tbody>\n",
       "</table>\n",
       "</div>"
      ],
      "text/plain": [
       "   type                                              posts\n",
       "0  INFJ  enfp intj moments sportscenter top ten plays p...\n",
       "1  ENTP  finding lack posts alarming sex boring positio...\n",
       "2  INTP  good one course say know blessing curse absolu...\n",
       "3  INTJ  dear intp enjoyed conversation day esoteric ga...\n",
       "4  ENTJ  fired another silly misconception approaching ..."
      ]
     },
     "execution_count": 7,
     "metadata": {},
     "output_type": "execute_result"
    }
   ],
   "source": [
    "# 데이터 불러오기 & 확인\n",
    "df = pd.read_csv('mbti_new.csv')\n",
    "df.head()"
   ]
  },
  {
   "cell_type": "code",
   "execution_count": 8,
   "metadata": {},
   "outputs": [],
   "source": [
    "# 학습을 위한 X데이터 (게시글 데이터) 만들기\n",
    "# 이를 위해 df의 posts 부분을 리스트 형태의 corpus 객체에 저장해준다.\n",
    "corpus = []\n",
    "for post in df.posts:\n",
    "    corpus.append(post)"
   ]
  },
  {
   "cell_type": "code",
   "execution_count": 16,
   "metadata": {},
   "outputs": [
    {
     "name": "stdout",
     "output_type": "stream",
     "text": [
      "특정 게시글 내용 확인 : intj direct disregard society entirely others see importance putting mask online test exactly posses reliability personalities fixed may posses traits one personality yet one another sometimes get intp well number keep home watching hilarious video movies always works fiction emotional entertainment non fiction intellectual entertainment congratulations another day closer death laughing considered old man nothing older intj philosophical inclination surprise really boils definition definition determined society agree damaged core controlled society emotional human related problems psychological problems iii existential depression despair love see problem solving skills come handy use standard model unless given get really worked bed anxious absolutely correct complexity translation tremendously difficult ipo input process output machine input process efficiency pretty normal psychologically society sensitive bunch say something norm get bashed cookie jar comprehend fits experience annoying people time actually interested know person true intentions illustrate example use unknowns assuming action illustrates humans humans humans always end bullies favorite punch bag sad yet awesome existence really logically emotionally yes well depends everyone narcissism otherwise considered psychologically ill occasional sense superiority nothing wrong course people impress ideas sometimes even someone stupid may come something worthwhile never know think evil good like projection self confidence towards external organisms one best friends istj great want ideas reality check reconfirming anything factual memory freaks narrow mindedness stubbornness lol epic thanks people understand certain degree least think misunderstanding come ways words action man meat another man poison idiom poetry deep philosophical meaning best deep dark expressing yet hidden words much better conversations horrendous yet artistically beautiful tongue ability misunderstand thoughts linear minded people people receive nobel prize close minded people talks possibilities tell winning nice feeling underdog yet surprising everyone winning even better feeling happy yep people find insane least friend outside head great mood good tend get bored matches currently playing civ happy since already said pros say cons cons awesome piss everyone psychological stress insane start chatting weather nature nurture nuff said computer games flash games knights old republic starcraft crysis mass effect mass effect others chess beauty eye candy intelligence brain candy gryffindor ravenclaw hufflepuff slytherin seems right description surprisingly short compared number questions obsessions usually last months one current obsessions google every single word unknown last obsession everything related physics still though happy many intellectuals smart anymore hands definitely better reading book essentially looking perception author concerning particular subject hands allows personal perception social norms fear rejection world views intjs world views mask intj puts understanding boredom diversity think worse gets worse gets depressed become general rule one problem another intj terrible existential psychological problems deal daily though sometimes take pride solitude get lot kind psychological defense since humans general like overwhelmed helpless feeling find way live reminds guilty proven innocent ambitious perfectionistic high degree yes probably intj alias really waste time get people moaning whining pathetic problems require additional pylons right\n",
      "샘플 수 : 8674\n"
     ]
    }
   ],
   "source": [
    "# cocpus 객체에 재대로 저장되었나 확인\n",
    "print(\"특정 게시글 내용 확인 : \" + corpus[500])\n",
    "print(\"샘플 수 : \" + str(len(corpus)))"
   ]
  },
  {
   "cell_type": "code",
   "execution_count": null,
   "metadata": {},
   "outputs": [],
   "source": []
  },
  {
   "cell_type": "code",
   "execution_count": 7,
   "metadata": {},
   "outputs": [],
   "source": []
  },
  {
   "cell_type": "markdown",
   "metadata": {},
   "source": [
    "#### 2) TFIDF 행렬화"
   ]
  },
  {
   "cell_type": "code",
   "execution_count": 28,
   "metadata": {},
   "outputs": [],
   "source": [
    "# Tfidfvectorizer's parameters 최적화 진행\n",
    "# 함수 만들기 - 파라미터 별 정확도 파악\n",
    "\n",
    "def set_param(my_max_features, my_min_df, my_max_df):\n",
    "    vectorizer = TfidfVectorizer(max_features = my_max_features, min_df = my_min_df, max_df = my_max_df)\n",
    "    X = vectorizer.fit_transform(corpus).toarray()\n",
    "    X_train, X_test, Y_train, Y_test = train_test_split(X, Y, test_size = 0.3, random_state = 1234)\n",
    "    LR = LogisticRegression()\n",
    "    LR.fit(X_train, Y_train)\n",
    "    Y_pred = LR.predict(X_test)\n",
    "    acc = accuracy_score(Y_test, Y_pred)\n",
    "    \n",
    "    return acc"
   ]
  },
  {
   "cell_type": "code",
   "execution_count": 30,
   "metadata": {
    "scrolled": false
   },
   "outputs": [
    {
     "name": "stdout",
     "output_type": "stream",
     "text": [
      "max_features가 500이고 min_df가 1이며 max_df가 0.1일 때의 정확도는 0.76입니다.\n",
      "max_features가 500이고 min_df가 1이며 max_df가 0.2일 때의 정확도는 0.79입니다.\n",
      "max_features가 500이고 min_df가 1이며 max_df가 0.30000000000000004일 때의 정확도는 0.8입니다.\n",
      "max_features가 500이고 min_df가 1이며 max_df가 0.4일 때의 정확도는 0.83입니다.\n",
      "max_features가 500이고 min_df가 1이며 max_df가 0.5일 때의 정확도는 0.84입니다.\n",
      "max_features가 500이고 min_df가 1이며 max_df가 0.6일 때의 정확도는 0.84입니다.\n",
      "max_features가 500이고 min_df가 1이며 max_df가 0.7000000000000001일 때의 정확도는 0.85입니다.\n",
      "max_features가 500이고 min_df가 1이며 max_df가 0.8일 때의 정확도는 0.85입니다.\n",
      "max_features가 500이고 min_df가 1이며 max_df가 0.9일 때의 정확도는 0.85입니다.\n",
      "max_features가 500이고 min_df가 2이며 max_df가 0.1일 때의 정확도는 0.76입니다.\n",
      "max_features가 500이고 min_df가 2이며 max_df가 0.2일 때의 정확도는 0.79입니다.\n",
      "max_features가 500이고 min_df가 2이며 max_df가 0.30000000000000004일 때의 정확도는 0.8입니다.\n",
      "max_features가 500이고 min_df가 2이며 max_df가 0.4일 때의 정확도는 0.83입니다.\n",
      "max_features가 500이고 min_df가 2이며 max_df가 0.5일 때의 정확도는 0.84입니다.\n",
      "max_features가 500이고 min_df가 2이며 max_df가 0.6일 때의 정확도는 0.84입니다.\n",
      "max_features가 500이고 min_df가 2이며 max_df가 0.7000000000000001일 때의 정확도는 0.85입니다.\n",
      "max_features가 500이고 min_df가 2이며 max_df가 0.8일 때의 정확도는 0.85입니다.\n",
      "max_features가 500이고 min_df가 2이며 max_df가 0.9일 때의 정확도는 0.85입니다.\n",
      "max_features가 500이고 min_df가 3이며 max_df가 0.1일 때의 정확도는 0.76입니다.\n",
      "max_features가 500이고 min_df가 3이며 max_df가 0.2일 때의 정확도는 0.79입니다.\n",
      "max_features가 500이고 min_df가 3이며 max_df가 0.30000000000000004일 때의 정확도는 0.8입니다.\n",
      "max_features가 500이고 min_df가 3이며 max_df가 0.4일 때의 정확도는 0.83입니다.\n",
      "max_features가 500이고 min_df가 3이며 max_df가 0.5일 때의 정확도는 0.84입니다.\n",
      "max_features가 500이고 min_df가 3이며 max_df가 0.6일 때의 정확도는 0.84입니다.\n",
      "max_features가 500이고 min_df가 3이며 max_df가 0.7000000000000001일 때의 정확도는 0.85입니다.\n",
      "max_features가 500이고 min_df가 3이며 max_df가 0.8일 때의 정확도는 0.85입니다.\n",
      "max_features가 500이고 min_df가 3이며 max_df가 0.9일 때의 정확도는 0.85입니다.\n",
      "max_features가 500이고 min_df가 4이며 max_df가 0.1일 때의 정확도는 0.76입니다.\n",
      "max_features가 500이고 min_df가 4이며 max_df가 0.2일 때의 정확도는 0.79입니다.\n",
      "max_features가 500이고 min_df가 4이며 max_df가 0.30000000000000004일 때의 정확도는 0.8입니다.\n",
      "max_features가 500이고 min_df가 4이며 max_df가 0.4일 때의 정확도는 0.83입니다.\n",
      "max_features가 500이고 min_df가 4이며 max_df가 0.5일 때의 정확도는 0.84입니다.\n",
      "max_features가 500이고 min_df가 4이며 max_df가 0.6일 때의 정확도는 0.84입니다.\n",
      "max_features가 500이고 min_df가 4이며 max_df가 0.7000000000000001일 때의 정확도는 0.85입니다.\n",
      "max_features가 500이고 min_df가 4이며 max_df가 0.8일 때의 정확도는 0.85입니다.\n",
      "max_features가 500이고 min_df가 4이며 max_df가 0.9일 때의 정확도는 0.85입니다.\n",
      "max_features가 1000이고 min_df가 1이며 max_df가 0.1일 때의 정확도는 0.76입니다.\n",
      "max_features가 1000이고 min_df가 1이며 max_df가 0.2일 때의 정확도는 0.8입니다.\n",
      "max_features가 1000이고 min_df가 1이며 max_df가 0.30000000000000004일 때의 정확도는 0.8입니다.\n",
      "max_features가 1000이고 min_df가 1이며 max_df가 0.4일 때의 정확도는 0.82입니다.\n",
      "max_features가 1000이고 min_df가 1이며 max_df가 0.5일 때의 정확도는 0.84입니다.\n",
      "max_features가 1000이고 min_df가 1이며 max_df가 0.6일 때의 정확도는 0.85입니다.\n",
      "max_features가 1000이고 min_df가 1이며 max_df가 0.7000000000000001일 때의 정확도는 0.85입니다.\n",
      "max_features가 1000이고 min_df가 1이며 max_df가 0.8일 때의 정확도는 0.84입니다.\n",
      "max_features가 1000이고 min_df가 1이며 max_df가 0.9일 때의 정확도는 0.84입니다.\n",
      "max_features가 1000이고 min_df가 2이며 max_df가 0.1일 때의 정확도는 0.76입니다.\n",
      "max_features가 1000이고 min_df가 2이며 max_df가 0.2일 때의 정확도는 0.8입니다.\n",
      "max_features가 1000이고 min_df가 2이며 max_df가 0.30000000000000004일 때의 정확도는 0.8입니다.\n",
      "max_features가 1000이고 min_df가 2이며 max_df가 0.4일 때의 정확도는 0.82입니다.\n",
      "max_features가 1000이고 min_df가 2이며 max_df가 0.5일 때의 정확도는 0.84입니다.\n",
      "max_features가 1000이고 min_df가 2이며 max_df가 0.6일 때의 정확도는 0.85입니다.\n",
      "max_features가 1000이고 min_df가 2이며 max_df가 0.7000000000000001일 때의 정확도는 0.85입니다.\n",
      "max_features가 1000이고 min_df가 2이며 max_df가 0.8일 때의 정확도는 0.84입니다.\n",
      "max_features가 1000이고 min_df가 2이며 max_df가 0.9일 때의 정확도는 0.84입니다.\n",
      "max_features가 1000이고 min_df가 3이며 max_df가 0.1일 때의 정확도는 0.76입니다.\n",
      "max_features가 1000이고 min_df가 3이며 max_df가 0.2일 때의 정확도는 0.8입니다.\n",
      "max_features가 1000이고 min_df가 3이며 max_df가 0.30000000000000004일 때의 정확도는 0.8입니다.\n",
      "max_features가 1000이고 min_df가 3이며 max_df가 0.4일 때의 정확도는 0.83입니다.\n",
      "max_features가 1000이고 min_df가 3이며 max_df가 0.5일 때의 정확도는 0.84입니다.\n",
      "max_features가 1000이고 min_df가 3이며 max_df가 0.6일 때의 정확도는 0.85입니다.\n",
      "max_features가 1000이고 min_df가 3이며 max_df가 0.7000000000000001일 때의 정확도는 0.85입니다.\n",
      "max_features가 1000이고 min_df가 3이며 max_df가 0.8일 때의 정확도는 0.84입니다.\n",
      "max_features가 1000이고 min_df가 3이며 max_df가 0.9일 때의 정확도는 0.84입니다.\n",
      "max_features가 1000이고 min_df가 4이며 max_df가 0.1일 때의 정확도는 0.76입니다.\n",
      "max_features가 1000이고 min_df가 4이며 max_df가 0.2일 때의 정확도는 0.8입니다.\n",
      "max_features가 1000이고 min_df가 4이며 max_df가 0.30000000000000004일 때의 정확도는 0.8입니다.\n",
      "max_features가 1000이고 min_df가 4이며 max_df가 0.4일 때의 정확도는 0.82입니다.\n",
      "max_features가 1000이고 min_df가 4이며 max_df가 0.5일 때의 정확도는 0.84입니다.\n",
      "max_features가 1000이고 min_df가 4이며 max_df가 0.6일 때의 정확도는 0.85입니다.\n",
      "max_features가 1000이고 min_df가 4이며 max_df가 0.7000000000000001일 때의 정확도는 0.85입니다.\n",
      "max_features가 1000이고 min_df가 4이며 max_df가 0.8일 때의 정확도는 0.84입니다.\n",
      "max_features가 1000이고 min_df가 4이며 max_df가 0.9일 때의 정확도는 0.84입니다.\n",
      "max_features가 1500이고 min_df가 1이며 max_df가 0.1일 때의 정확도는 0.76입니다.\n",
      "max_features가 1500이고 min_df가 1이며 max_df가 0.2일 때의 정확도는 0.79입니다.\n",
      "max_features가 1500이고 min_df가 1이며 max_df가 0.30000000000000004일 때의 정확도는 0.8입니다.\n",
      "max_features가 1500이고 min_df가 1이며 max_df가 0.4일 때의 정확도는 0.82입니다.\n",
      "max_features가 1500이고 min_df가 1이며 max_df가 0.5일 때의 정확도는 0.84입니다.\n",
      "max_features가 1500이고 min_df가 1이며 max_df가 0.6일 때의 정확도는 0.84입니다.\n",
      "max_features가 1500이고 min_df가 1이며 max_df가 0.7000000000000001일 때의 정확도는 0.84입니다.\n",
      "max_features가 1500이고 min_df가 1이며 max_df가 0.8일 때의 정확도는 0.84입니다.\n",
      "max_features가 1500이고 min_df가 1이며 max_df가 0.9일 때의 정확도는 0.84입니다.\n",
      "max_features가 1500이고 min_df가 2이며 max_df가 0.1일 때의 정확도는 0.76입니다.\n",
      "max_features가 1500이고 min_df가 2이며 max_df가 0.2일 때의 정확도는 0.79입니다.\n",
      "max_features가 1500이고 min_df가 2이며 max_df가 0.30000000000000004일 때의 정확도는 0.8입니다.\n",
      "max_features가 1500이고 min_df가 2이며 max_df가 0.4일 때의 정확도는 0.82입니다.\n",
      "max_features가 1500이고 min_df가 2이며 max_df가 0.5일 때의 정확도는 0.84입니다.\n",
      "max_features가 1500이고 min_df가 2이며 max_df가 0.6일 때의 정확도는 0.84입니다.\n",
      "max_features가 1500이고 min_df가 2이며 max_df가 0.7000000000000001일 때의 정확도는 0.84입니다.\n",
      "max_features가 1500이고 min_df가 2이며 max_df가 0.8일 때의 정확도는 0.84입니다.\n",
      "max_features가 1500이고 min_df가 2이며 max_df가 0.9일 때의 정확도는 0.84입니다.\n",
      "max_features가 1500이고 min_df가 3이며 max_df가 0.1일 때의 정확도는 0.76입니다.\n",
      "max_features가 1500이고 min_df가 3이며 max_df가 0.2일 때의 정확도는 0.79입니다.\n",
      "max_features가 1500이고 min_df가 3이며 max_df가 0.30000000000000004일 때의 정확도는 0.8입니다.\n",
      "max_features가 1500이고 min_df가 3이며 max_df가 0.4일 때의 정확도는 0.82입니다.\n",
      "max_features가 1500이고 min_df가 3이며 max_df가 0.5일 때의 정확도는 0.84입니다.\n",
      "max_features가 1500이고 min_df가 3이며 max_df가 0.6일 때의 정확도는 0.84입니다.\n",
      "max_features가 1500이고 min_df가 3이며 max_df가 0.7000000000000001일 때의 정확도는 0.84입니다.\n",
      "max_features가 1500이고 min_df가 3이며 max_df가 0.8일 때의 정확도는 0.84입니다.\n",
      "max_features가 1500이고 min_df가 3이며 max_df가 0.9일 때의 정확도는 0.84입니다.\n",
      "max_features가 1500이고 min_df가 4이며 max_df가 0.1일 때의 정확도는 0.76입니다.\n",
      "max_features가 1500이고 min_df가 4이며 max_df가 0.2일 때의 정확도는 0.79입니다.\n",
      "max_features가 1500이고 min_df가 4이며 max_df가 0.30000000000000004일 때의 정확도는 0.8입니다.\n",
      "max_features가 1500이고 min_df가 4이며 max_df가 0.4일 때의 정확도는 0.82입니다.\n",
      "max_features가 1500이고 min_df가 4이며 max_df가 0.5일 때의 정확도는 0.84입니다.\n",
      "max_features가 1500이고 min_df가 4이며 max_df가 0.6일 때의 정확도는 0.84입니다.\n",
      "max_features가 1500이고 min_df가 4이며 max_df가 0.7000000000000001일 때의 정확도는 0.84입니다.\n",
      "max_features가 1500이고 min_df가 4이며 max_df가 0.8일 때의 정확도는 0.84입니다.\n",
      "max_features가 1500이고 min_df가 4이며 max_df가 0.9일 때의 정확도는 0.84입니다.\n"
     ]
    }
   ],
   "source": [
    "# for문과 위에서 만든 함수를 이용하여 정확도가 가장 높은 파라미터 값을 찾는다. \n",
    "\n",
    "for i in [500, 1000, 1500]:\n",
    "    for j in np.arange(1, 5, 1):\n",
    "        for k in np.arange(0.1, 1.0, 0.1):\n",
    "            print(\"max_features가 {}이고 min_df가 {}이며 max_df가 {}일 때의 정확도는 {}입니다.\".format(i, j, k, round(set_param(i, j, k),2)))"
   ]
  },
  {
   "cell_type": "code",
   "execution_count": null,
   "metadata": {},
   "outputs": [],
   "source": [
    "# max feature값이 증가한다고 해서 정확도가 유의미하게 증가하지 않는다. \n",
    "# max_feature = 500, min_df = 1, max_df = 0.5가 최적화 파라미터 값이다. "
   ]
  },
  {
   "cell_type": "code",
   "execution_count": null,
   "metadata": {},
   "outputs": [],
   "source": []
  },
  {
   "cell_type": "code",
   "execution_count": 31,
   "metadata": {},
   "outputs": [],
   "source": [
    "# 학습을 위해 Tfidfvectorizer 진행\n",
    "# 위의 최적화를 바탕으로 파라미터값 설정\n",
    "\n",
    "vectorizer = TfidfVectorizer(max_features = 500, min_df = 1, max_df =0.5)\n",
    "X = vectorizer.fit_transform(corpus).toarray() "
   ]
  },
  {
   "cell_type": "code",
   "execution_count": null,
   "metadata": {},
   "outputs": [],
   "source": []
  },
  {
   "cell_type": "code",
   "execution_count": 32,
   "metadata": {
    "scrolled": true
   },
   "outputs": [
    {
     "data": {
      "text/plain": [
       "(8674, 500)"
      ]
     },
     "execution_count": 32,
     "metadata": {},
     "output_type": "execute_result"
    }
   ],
   "source": [
    "# X 확인\n",
    "# 관측치 x 단어집합 크기\n",
    "\n",
    "X.shape"
   ]
  },
  {
   "cell_type": "markdown",
   "metadata": {},
   "source": [
    "### 2. Y_data(label) 준비"
   ]
  },
  {
   "cell_type": "code",
   "execution_count": null,
   "metadata": {},
   "outputs": [],
   "source": [
    "# Y 데이터 만들기\n",
    "\n",
    "type = df['type']\n",
    "\n",
    "# 내/외향성으로 구분 & 0,1로 변환\n",
    "Y = type.apply(lambda x : x[0])\n",
    "Y = Y.replace(['I', 'E'], [0, 1])"
   ]
  },
  {
   "cell_type": "code",
   "execution_count": null,
   "metadata": {},
   "outputs": [],
   "source": []
  },
  {
   "cell_type": "markdown",
   "metadata": {},
   "source": [
    "### 3. data 분리 및 확인"
   ]
  },
  {
   "cell_type": "code",
   "execution_count": 21,
   "metadata": {},
   "outputs": [],
   "source": [
    "# 데이터 셋 나누기\n",
    "\n",
    "X_train, X_test, Y_train, Y_test = train_test_split(X, Y, test_size = 0.3, random_state = 1234)"
   ]
  },
  {
   "cell_type": "code",
   "execution_count": 22,
   "metadata": {},
   "outputs": [
    {
     "name": "stdout",
     "output_type": "stream",
     "text": [
      "(6072, 500)\n",
      "(2603, 500)\n",
      "(6072,)\n",
      "(2603,)\n"
     ]
    }
   ],
   "source": [
    "# 각 데이터셋의 크기 확인\n",
    "\n",
    "print(X_train.shape)\n",
    "print(X_test.shape)\n",
    "print(Y_train.shape)\n",
    "print(Y_test.shape)"
   ]
  },
  {
   "cell_type": "code",
   "execution_count": null,
   "metadata": {},
   "outputs": [],
   "source": []
  },
  {
   "cell_type": "markdown",
   "metadata": {},
   "source": [
    "## 모델 학습 & 평가"
   ]
  },
  {
   "cell_type": "markdown",
   "metadata": {},
   "source": [
    "### 1. Rogistic 회귀"
   ]
  },
  {
   "cell_type": "code",
   "execution_count": 26,
   "metadata": {},
   "outputs": [
    {
     "data": {
      "text/plain": [
       "LogisticRegression()"
      ]
     },
     "execution_count": 26,
     "metadata": {},
     "output_type": "execute_result"
    }
   ],
   "source": [
    "# 모델 생성 및 학습\n",
    "\n",
    "LR = LogisticRegression()\n",
    "LR.fit(X_train, Y_train)"
   ]
  },
  {
   "cell_type": "code",
   "execution_count": 30,
   "metadata": {},
   "outputs": [
    {
     "name": "stdout",
     "output_type": "stream",
     "text": [
      "Rogistic accuracy : 0.851\n"
     ]
    }
   ],
   "source": [
    "# 정확도 확인\n",
    "\n",
    "Y_pred = LR.predict(X_test)\n",
    "conf_mat = confusion_matrix(Y_test, Y_pred)\n",
    "acc = accuracy_score(Y_test, Y_pred)\n",
    "print( \"Rogistic accuracy : \" + str(np.round(accuracy_score(Y_test,Y_pred),3)))"
   ]
  },
  {
   "cell_type": "code",
   "execution_count": null,
   "metadata": {},
   "outputs": [],
   "source": [
    "# 학습된 모델 저장\n",
    "\n",
    "joblib.dump(LR, 'LR.pkl')"
   ]
  },
  {
   "cell_type": "code",
   "execution_count": null,
   "metadata": {},
   "outputs": [],
   "source": []
  },
  {
   "cell_type": "markdown",
   "metadata": {},
   "source": [
    "### 2. XGBoost"
   ]
  },
  {
   "cell_type": "code",
   "execution_count": null,
   "metadata": {},
   "outputs": [],
   "source": [
    "# 모델 생성 및 하이퍼파라미터 최적화\n",
    "\n",
    "max_depth_grid = np.arange(5, 10, 2)\n",
    "learning_rate_grid = np.arange(0.02, 0.12, 0.02)                      \n",
    "n_estimators_grid = np.arange(100, 500, 100)\n",
    "parameters = {'max_depth': max_depth_grid, 'learning_rate': learning_rate_grid, 'n_estimators': n_estimators_grid}\n",
    "\n",
    "gridCV = GridSearchCV(XGBClassifier(), parameters, cv=10, n_jobs = -1)\n",
    "gridCV.fit(X_train, Y_train)"
   ]
  },
  {
   "cell_type": "code",
   "execution_count": 173,
   "metadata": {
    "scrolled": true
   },
   "outputs": [
    {
     "name": "stdout",
     "output_type": "stream",
     "text": [
      "XGBoost accuracy : 0.863\n"
     ]
    }
   ],
   "source": [
    "# 정확도 확인\n",
    "\n",
    "XGBC_best = gridCV.best_estimator_\n",
    "Y_pred = XGBC_best.predict(X_test)\n",
    "print( \"정확도: \" + str(np.round(accuracy_score(Y_test,Y_pred),3)))"
   ]
  },
  {
   "cell_type": "code",
   "execution_count": null,
   "metadata": {},
   "outputs": [],
   "source": [
    "# 학습된 모델 저장 \n",
    "\n",
    "joblib.dump(XGBC_best, 'XGBC.pkl')"
   ]
  },
  {
   "cell_type": "code",
   "execution_count": null,
   "metadata": {},
   "outputs": [],
   "source": []
  },
  {
   "cell_type": "markdown",
   "metadata": {},
   "source": [
    "### 3. RandomForest"
   ]
  },
  {
   "cell_type": "code",
   "execution_count": 12,
   "metadata": {},
   "outputs": [],
   "source": [
    "# 모델 생성 및 하이퍼파라미터 최적화\n",
    "\n",
    "n_estimators_grid = np.arange(100, 350, 50)\n",
    "depth_grid = np.arange(5, 30, 3)\n",
    "min_samples_leaf_grid = np.arange(5,20,4)\n",
    "min_samples_split_grid = np.arange(8, 21, 4)\n",
    "parameters = {'n_estimators': n_estimators_grid, 'max_depth': depth_grid, 'min_samples_leaf':min_samples_leaf_grid,\n",
    "              'min_samples_split':min_samples_split_grid}\n",
    "\n",
    "gridCV = GridSearchCV(RandomForestClassifier(), parameters, cv=10, n_jobs=-1)\n",
    "gridCV.fit(X_train, Y_train)"
   ]
  },
  {
   "cell_type": "code",
   "execution_count": 14,
   "metadata": {},
   "outputs": [
    {
     "name": "stdout",
     "output_type": "stream",
     "text": [
      "Random Forest best accuracy : 0.802\n"
     ]
    }
   ],
   "source": [
    "# 정확도 확인\n",
    "\n",
    "RF_best = gridCV.best_estimator_\n",
    "RF_best.fit(X_train, Y_train)\n",
    "Y_pred = RF_best.predict(X_test)\n",
    "print( \"Random Forest best accuracy : \" + str(np.round(metrics.accuracy_score(Y_test,Y_pred),3)))"
   ]
  },
  {
   "cell_type": "code",
   "execution_count": 85,
   "metadata": {},
   "outputs": [
    {
     "data": {
      "text/plain": [
       "['RF.pkl']"
      ]
     },
     "execution_count": 85,
     "metadata": {},
     "output_type": "execute_result"
    }
   ],
   "source": [
    "# 학습된 모델 저장 \n",
    "\n",
    "joblib.dump(RF_best, 'RF.pkl')"
   ]
  },
  {
   "cell_type": "code",
   "execution_count": null,
   "metadata": {},
   "outputs": [],
   "source": []
  },
  {
   "cell_type": "code",
   "execution_count": 33,
   "metadata": {},
   "outputs": [],
   "source": [
    "# XGBoost 모델의 정확도가 0.863으로 가장 높다. "
   ]
  },
  {
   "cell_type": "code",
   "execution_count": null,
   "metadata": {},
   "outputs": [],
   "source": []
  }
 ],
 "metadata": {
  "kernelspec": {
   "display_name": "Python 3",
   "language": "python",
   "name": "python3"
  },
  "language_info": {
   "codemirror_mode": {
    "name": "ipython",
    "version": 3
   },
   "file_extension": ".py",
   "mimetype": "text/x-python",
   "name": "python",
   "nbconvert_exporter": "python",
   "pygments_lexer": "ipython3",
   "version": "3.8.5"
  }
 },
 "nbformat": 4,
 "nbformat_minor": 4
}
